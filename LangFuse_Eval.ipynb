{
  "nbformat": 4,
  "nbformat_minor": 0,
  "metadata": {
    "colab": {
      "provenance": []
    },
    "kernelspec": {
      "name": "python3",
      "display_name": "Python 3"
    },
    "language_info": {
      "name": "python"
    }
  },
  "cells": [
    {
      "cell_type": "markdown",
      "source": [
        "# LLM Development: Tracking and Evaluation with Langfuse\n",
        "\n"
      ],
      "metadata": {
        "id": "vPixItkN2DGC"
      }
    },
    {
      "cell_type": "markdown",
      "source": [
        "# Understanding LLM Behavior\n",
        "- Why tracking matters\n",
        "- Challenges with LLM applications\n",
        "- Importance of systematic evaluation"
      ],
      "metadata": {
        "id": "arspMF4Z3y9t"
      }
    },
    {
      "cell_type": "markdown",
      "source": [
        "# 1. Environment Setup"
      ],
      "metadata": {
        "id": "ZXxiPOWOzGDD"
      }
    },
    {
      "cell_type": "code",
      "source": [
        "%%capture\n",
        "!pip install langfuse langchain langchain-groq --upgrade  tqdm"
      ],
      "metadata": {
        "id": "mL-J3R_YzRK7"
      },
      "execution_count": 1,
      "outputs": []
    },
    {
      "cell_type": "code",
      "source": [
        "import os\n",
        "import time\n",
        "import pandas as pd\n",
        "import time\n",
        "from datetime import datetime\n",
        "from langfuse import Langfuse\n",
        "from typing import Dict, Any\n",
        "from langchain_groq import ChatGroq\n",
        "from langchain.prompts import ChatPromptTemplate\n",
        "from langchain_core.prompts import MessagesPlaceholder\n",
        "from langchain_core.messages import HumanMessage\n",
        "from tqdm import tqdm\n",
        "\n",
        "from google.colab import userdata\n"
      ],
      "metadata": {
        "id": "GcfM3s5azUGS"
      },
      "execution_count": 2,
      "outputs": []
    },
    {
      "cell_type": "code",
      "source": [
        "# setting environment variables\n",
        "os.environ['LANGFUSE_PUBLIC_KEY'] = userdata.get('LANGFUSE_PUBLIC_KEY')\n",
        "os.environ['LANGFUSE_SECRET_KEY'] = userdata.get('LANGFUSE_SECRET_KEY')\n",
        "os.environ['GROQ_API_KEY'] = userdata.get('QROQ_API_KEY_4')"
      ],
      "metadata": {
        "id": "m7hXq8R-zWmF"
      },
      "execution_count": 3,
      "outputs": []
    },
    {
      "cell_type": "code",
      "source": [
        "# Initialize Langfuse\n",
        "langfuse = Langfuse()\n",
        "\n",
        "# Initialize Groq LLM\n",
        "llm = ChatGroq(\n",
        "    temperature=0.0,\n",
        ")"
      ],
      "metadata": {
        "id": "bgmjnfWP1hZ6"
      },
      "execution_count": 4,
      "outputs": []
    },
    {
      "cell_type": "markdown",
      "source": [
        "## Creating a sample Movie reviews CSV"
      ],
      "metadata": {
        "id": "NqL2ajLJ4d3T"
      }
    },
    {
      "cell_type": "code",
      "source": [
        "movie_reviews_data = \"\"\"review,sentiment\n",
        "\"This movie was absolutely fantastic! The acting was superb and the story kept me engaged throughout.\",positive\n",
        "\"Terrible waste of time and money. The plot made no sense and the acting was wooden.\",negative\n",
        "\"While it had some good moments, overall it was just okay. The pacing felt off.\",mixed\n",
        "\"A masterpiece! Every scene was perfectly crafted and the performances were outstanding.\",positive\n",
        "\"Not sure how I feel about this one. Some parts worked, others didn't.\",mixed\n",
        "\"Avoid at all costs. Possibly the worst movie I've seen this year.\",negative\n",
        "\"The special effects were amazing but the story was weak.\",mixed\n",
        "\"Brilliant directing, amazing performances, and a perfect ending!\",positive\n",
        "\"Boring and predictable. Don't waste your money.\",negative\n",
        "\"A decent watch but nothing special. Wouldn't see it again.\",mixed\"\"\""
      ],
      "metadata": {
        "id": "0rDdNdjL2U43"
      },
      "execution_count": 5,
      "outputs": []
    },
    {
      "cell_type": "code",
      "source": [
        "# Save to CSV\n",
        "with open(\"movie_reviews.csv\", \"w\") as f:\n",
        "    f.write(movie_reviews_data)\n",
        "\n",
        "# Read the CSV\n",
        "df = pd.read_csv(\"movie_reviews.csv\")\n",
        "print(\"Dataset shape:\", df.shape)\n",
        "print(\"\\nSample reviews:\")\n",
        "df.head()"
      ],
      "metadata": {
        "colab": {
          "base_uri": "https://localhost:8080/",
          "height": 260
        },
        "id": "VRJFB1oK3nxx",
        "outputId": "c0d8d341-6427-44cb-bdb2-0b4a4c823608"
      },
      "execution_count": 6,
      "outputs": [
        {
          "output_type": "stream",
          "name": "stdout",
          "text": [
            "Dataset shape: (10, 2)\n",
            "\n",
            "Sample reviews:\n"
          ]
        },
        {
          "output_type": "execute_result",
          "data": {
            "text/plain": [
              "                                              review sentiment\n",
              "0  This movie was absolutely fantastic! The actin...  positive\n",
              "1  Terrible waste of time and money. The plot mad...  negative\n",
              "2  While it had some good moments, overall it was...     mixed\n",
              "3  A masterpiece! Every scene was perfectly craft...  positive\n",
              "4  Not sure how I feel about this one. Some parts...     mixed"
            ],
            "text/html": [
              "\n",
              "  <div id=\"df-1e9df0cc-65c8-4da3-9df5-56c0697e7aba\" class=\"colab-df-container\">\n",
              "    <div>\n",
              "<style scoped>\n",
              "    .dataframe tbody tr th:only-of-type {\n",
              "        vertical-align: middle;\n",
              "    }\n",
              "\n",
              "    .dataframe tbody tr th {\n",
              "        vertical-align: top;\n",
              "    }\n",
              "\n",
              "    .dataframe thead th {\n",
              "        text-align: right;\n",
              "    }\n",
              "</style>\n",
              "<table border=\"1\" class=\"dataframe\">\n",
              "  <thead>\n",
              "    <tr style=\"text-align: right;\">\n",
              "      <th></th>\n",
              "      <th>review</th>\n",
              "      <th>sentiment</th>\n",
              "    </tr>\n",
              "  </thead>\n",
              "  <tbody>\n",
              "    <tr>\n",
              "      <th>0</th>\n",
              "      <td>This movie was absolutely fantastic! The actin...</td>\n",
              "      <td>positive</td>\n",
              "    </tr>\n",
              "    <tr>\n",
              "      <th>1</th>\n",
              "      <td>Terrible waste of time and money. The plot mad...</td>\n",
              "      <td>negative</td>\n",
              "    </tr>\n",
              "    <tr>\n",
              "      <th>2</th>\n",
              "      <td>While it had some good moments, overall it was...</td>\n",
              "      <td>mixed</td>\n",
              "    </tr>\n",
              "    <tr>\n",
              "      <th>3</th>\n",
              "      <td>A masterpiece! Every scene was perfectly craft...</td>\n",
              "      <td>positive</td>\n",
              "    </tr>\n",
              "    <tr>\n",
              "      <th>4</th>\n",
              "      <td>Not sure how I feel about this one. Some parts...</td>\n",
              "      <td>mixed</td>\n",
              "    </tr>\n",
              "  </tbody>\n",
              "</table>\n",
              "</div>\n",
              "    <div class=\"colab-df-buttons\">\n",
              "\n",
              "  <div class=\"colab-df-container\">\n",
              "    <button class=\"colab-df-convert\" onclick=\"convertToInteractive('df-1e9df0cc-65c8-4da3-9df5-56c0697e7aba')\"\n",
              "            title=\"Convert this dataframe to an interactive table.\"\n",
              "            style=\"display:none;\">\n",
              "\n",
              "  <svg xmlns=\"http://www.w3.org/2000/svg\" height=\"24px\" viewBox=\"0 -960 960 960\">\n",
              "    <path d=\"M120-120v-720h720v720H120Zm60-500h600v-160H180v160Zm220 220h160v-160H400v160Zm0 220h160v-160H400v160ZM180-400h160v-160H180v160Zm440 0h160v-160H620v160ZM180-180h160v-160H180v160Zm440 0h160v-160H620v160Z\"/>\n",
              "  </svg>\n",
              "    </button>\n",
              "\n",
              "  <style>\n",
              "    .colab-df-container {\n",
              "      display:flex;\n",
              "      gap: 12px;\n",
              "    }\n",
              "\n",
              "    .colab-df-convert {\n",
              "      background-color: #E8F0FE;\n",
              "      border: none;\n",
              "      border-radius: 50%;\n",
              "      cursor: pointer;\n",
              "      display: none;\n",
              "      fill: #1967D2;\n",
              "      height: 32px;\n",
              "      padding: 0 0 0 0;\n",
              "      width: 32px;\n",
              "    }\n",
              "\n",
              "    .colab-df-convert:hover {\n",
              "      background-color: #E2EBFA;\n",
              "      box-shadow: 0px 1px 2px rgba(60, 64, 67, 0.3), 0px 1px 3px 1px rgba(60, 64, 67, 0.15);\n",
              "      fill: #174EA6;\n",
              "    }\n",
              "\n",
              "    .colab-df-buttons div {\n",
              "      margin-bottom: 4px;\n",
              "    }\n",
              "\n",
              "    [theme=dark] .colab-df-convert {\n",
              "      background-color: #3B4455;\n",
              "      fill: #D2E3FC;\n",
              "    }\n",
              "\n",
              "    [theme=dark] .colab-df-convert:hover {\n",
              "      background-color: #434B5C;\n",
              "      box-shadow: 0px 1px 3px 1px rgba(0, 0, 0, 0.15);\n",
              "      filter: drop-shadow(0px 1px 2px rgba(0, 0, 0, 0.3));\n",
              "      fill: #FFFFFF;\n",
              "    }\n",
              "  </style>\n",
              "\n",
              "    <script>\n",
              "      const buttonEl =\n",
              "        document.querySelector('#df-1e9df0cc-65c8-4da3-9df5-56c0697e7aba button.colab-df-convert');\n",
              "      buttonEl.style.display =\n",
              "        google.colab.kernel.accessAllowed ? 'block' : 'none';\n",
              "\n",
              "      async function convertToInteractive(key) {\n",
              "        const element = document.querySelector('#df-1e9df0cc-65c8-4da3-9df5-56c0697e7aba');\n",
              "        const dataTable =\n",
              "          await google.colab.kernel.invokeFunction('convertToInteractive',\n",
              "                                                    [key], {});\n",
              "        if (!dataTable) return;\n",
              "\n",
              "        const docLinkHtml = 'Like what you see? Visit the ' +\n",
              "          '<a target=\"_blank\" href=https://colab.research.google.com/notebooks/data_table.ipynb>data table notebook</a>'\n",
              "          + ' to learn more about interactive tables.';\n",
              "        element.innerHTML = '';\n",
              "        dataTable['output_type'] = 'display_data';\n",
              "        await google.colab.output.renderOutput(dataTable, element);\n",
              "        const docLink = document.createElement('div');\n",
              "        docLink.innerHTML = docLinkHtml;\n",
              "        element.appendChild(docLink);\n",
              "      }\n",
              "    </script>\n",
              "  </div>\n",
              "\n",
              "\n",
              "<div id=\"df-e2d9090a-208f-40fa-84f9-df9d9c0cb78b\">\n",
              "  <button class=\"colab-df-quickchart\" onclick=\"quickchart('df-e2d9090a-208f-40fa-84f9-df9d9c0cb78b')\"\n",
              "            title=\"Suggest charts\"\n",
              "            style=\"display:none;\">\n",
              "\n",
              "<svg xmlns=\"http://www.w3.org/2000/svg\" height=\"24px\"viewBox=\"0 0 24 24\"\n",
              "     width=\"24px\">\n",
              "    <g>\n",
              "        <path d=\"M19 3H5c-1.1 0-2 .9-2 2v14c0 1.1.9 2 2 2h14c1.1 0 2-.9 2-2V5c0-1.1-.9-2-2-2zM9 17H7v-7h2v7zm4 0h-2V7h2v10zm4 0h-2v-4h2v4z\"/>\n",
              "    </g>\n",
              "</svg>\n",
              "  </button>\n",
              "\n",
              "<style>\n",
              "  .colab-df-quickchart {\n",
              "      --bg-color: #E8F0FE;\n",
              "      --fill-color: #1967D2;\n",
              "      --hover-bg-color: #E2EBFA;\n",
              "      --hover-fill-color: #174EA6;\n",
              "      --disabled-fill-color: #AAA;\n",
              "      --disabled-bg-color: #DDD;\n",
              "  }\n",
              "\n",
              "  [theme=dark] .colab-df-quickchart {\n",
              "      --bg-color: #3B4455;\n",
              "      --fill-color: #D2E3FC;\n",
              "      --hover-bg-color: #434B5C;\n",
              "      --hover-fill-color: #FFFFFF;\n",
              "      --disabled-bg-color: #3B4455;\n",
              "      --disabled-fill-color: #666;\n",
              "  }\n",
              "\n",
              "  .colab-df-quickchart {\n",
              "    background-color: var(--bg-color);\n",
              "    border: none;\n",
              "    border-radius: 50%;\n",
              "    cursor: pointer;\n",
              "    display: none;\n",
              "    fill: var(--fill-color);\n",
              "    height: 32px;\n",
              "    padding: 0;\n",
              "    width: 32px;\n",
              "  }\n",
              "\n",
              "  .colab-df-quickchart:hover {\n",
              "    background-color: var(--hover-bg-color);\n",
              "    box-shadow: 0 1px 2px rgba(60, 64, 67, 0.3), 0 1px 3px 1px rgba(60, 64, 67, 0.15);\n",
              "    fill: var(--button-hover-fill-color);\n",
              "  }\n",
              "\n",
              "  .colab-df-quickchart-complete:disabled,\n",
              "  .colab-df-quickchart-complete:disabled:hover {\n",
              "    background-color: var(--disabled-bg-color);\n",
              "    fill: var(--disabled-fill-color);\n",
              "    box-shadow: none;\n",
              "  }\n",
              "\n",
              "  .colab-df-spinner {\n",
              "    border: 2px solid var(--fill-color);\n",
              "    border-color: transparent;\n",
              "    border-bottom-color: var(--fill-color);\n",
              "    animation:\n",
              "      spin 1s steps(1) infinite;\n",
              "  }\n",
              "\n",
              "  @keyframes spin {\n",
              "    0% {\n",
              "      border-color: transparent;\n",
              "      border-bottom-color: var(--fill-color);\n",
              "      border-left-color: var(--fill-color);\n",
              "    }\n",
              "    20% {\n",
              "      border-color: transparent;\n",
              "      border-left-color: var(--fill-color);\n",
              "      border-top-color: var(--fill-color);\n",
              "    }\n",
              "    30% {\n",
              "      border-color: transparent;\n",
              "      border-left-color: var(--fill-color);\n",
              "      border-top-color: var(--fill-color);\n",
              "      border-right-color: var(--fill-color);\n",
              "    }\n",
              "    40% {\n",
              "      border-color: transparent;\n",
              "      border-right-color: var(--fill-color);\n",
              "      border-top-color: var(--fill-color);\n",
              "    }\n",
              "    60% {\n",
              "      border-color: transparent;\n",
              "      border-right-color: var(--fill-color);\n",
              "    }\n",
              "    80% {\n",
              "      border-color: transparent;\n",
              "      border-right-color: var(--fill-color);\n",
              "      border-bottom-color: var(--fill-color);\n",
              "    }\n",
              "    90% {\n",
              "      border-color: transparent;\n",
              "      border-bottom-color: var(--fill-color);\n",
              "    }\n",
              "  }\n",
              "</style>\n",
              "\n",
              "  <script>\n",
              "    async function quickchart(key) {\n",
              "      const quickchartButtonEl =\n",
              "        document.querySelector('#' + key + ' button');\n",
              "      quickchartButtonEl.disabled = true;  // To prevent multiple clicks.\n",
              "      quickchartButtonEl.classList.add('colab-df-spinner');\n",
              "      try {\n",
              "        const charts = await google.colab.kernel.invokeFunction(\n",
              "            'suggestCharts', [key], {});\n",
              "      } catch (error) {\n",
              "        console.error('Error during call to suggestCharts:', error);\n",
              "      }\n",
              "      quickchartButtonEl.classList.remove('colab-df-spinner');\n",
              "      quickchartButtonEl.classList.add('colab-df-quickchart-complete');\n",
              "    }\n",
              "    (() => {\n",
              "      let quickchartButtonEl =\n",
              "        document.querySelector('#df-e2d9090a-208f-40fa-84f9-df9d9c0cb78b button');\n",
              "      quickchartButtonEl.style.display =\n",
              "        google.colab.kernel.accessAllowed ? 'block' : 'none';\n",
              "    })();\n",
              "  </script>\n",
              "</div>\n",
              "\n",
              "    </div>\n",
              "  </div>\n"
            ],
            "application/vnd.google.colaboratory.intrinsic+json": {
              "type": "dataframe",
              "variable_name": "df",
              "summary": "{\n  \"name\": \"df\",\n  \"rows\": 10,\n  \"fields\": [\n    {\n      \"column\": \"review\",\n      \"properties\": {\n        \"dtype\": \"string\",\n        \"num_unique_values\": 10,\n        \"samples\": [\n          \"Boring and predictable. Don't waste your money.\",\n          \"Terrible waste of time and money. The plot made no sense and the acting was wooden.\",\n          \"Avoid at all costs. Possibly the worst movie I've seen this year.\"\n        ],\n        \"semantic_type\": \"\",\n        \"description\": \"\"\n      }\n    },\n    {\n      \"column\": \"sentiment\",\n      \"properties\": {\n        \"dtype\": \"category\",\n        \"num_unique_values\": 3,\n        \"samples\": [\n          \"positive\",\n          \"negative\",\n          \"mixed\"\n        ],\n        \"semantic_type\": \"\",\n        \"description\": \"\"\n      }\n    }\n  ]\n}"
            }
          },
          "metadata": {},
          "execution_count": 6
        }
      ]
    },
    {
      "cell_type": "markdown",
      "source": [
        "#2. Creating LangFuse Dataset\n"
      ],
      "metadata": {
        "id": "nUC5_hWl1o9K"
      }
    },
    {
      "cell_type": "code",
      "source": [
        "def create_dataset_from_csv(df: pd.DataFrame, dataset_name: str):\n",
        "    \"\"\"\n",
        "    Create a Langfuse dataset from a pandas DataFrame\n",
        "    \"\"\"\n",
        "    # Create the dataset\n",
        "    langfuse.create_dataset(name=dataset_name)\n",
        "\n",
        "    # Add each review to the dataset\n",
        "    for id, row in df.iterrows():\n",
        "        langfuse.create_dataset_item(\n",
        "            dataset_name=dataset_name,\n",
        "            input={\"review\": row['review']},\n",
        "            expected_output=row['sentiment']\n",
        "        )\n",
        "\n",
        "    print(f\"Created dataset '{dataset_name}' with {len(df)} items\")"
      ],
      "metadata": {
        "id": "gRTjLRUH3qKl"
      },
      "execution_count": 7,
      "outputs": []
    },
    {
      "cell_type": "code",
      "source": [
        "# Creating the dataset\n",
        "create_dataset_from_csv(df, \"movie_reviews\")"
      ],
      "metadata": {
        "colab": {
          "base_uri": "https://localhost:8080/"
        },
        "id": "GG948Q095HB9",
        "outputId": "af267bd9-5962-41cc-dcab-160c295bf894"
      },
      "execution_count": 8,
      "outputs": [
        {
          "output_type": "stream",
          "name": "stdout",
          "text": [
            "Created dataset 'movie_reviews' with 10 items\n"
          ]
        }
      ]
    },
    {
      "cell_type": "markdown",
      "source": [
        "# 3. Defining a simple sentiment analysis chain"
      ],
      "metadata": {
        "id": "DMLXylPS5LQm"
      }
    },
    {
      "cell_type": "code",
      "source": [
        "def create_sentiment_chain(system_prompt: str):\n",
        "\n",
        "    prompt = ChatPromptTemplate.from_messages([\n",
        "        (\"system\", system_prompt),\n",
        "        (\"user\", \"{review}\")\n",
        "    ])\n",
        "\n",
        "    return prompt | llm"
      ],
      "metadata": {
        "id": "_JdTMbv-5iGL"
      },
      "execution_count": 9,
      "outputs": []
    },
    {
      "cell_type": "markdown",
      "source": [
        "# 4. Running Sentiment Analysis Expriments"
      ],
      "metadata": {
        "id": "B_9zyi9E5yby"
      }
    },
    {
      "cell_type": "code",
      "source": [
        "def analyze_reviews(experiment_name: str, system_prompt: str):\n",
        "    \"\"\"\n",
        "    Run sentiment analysis experiment with progress bar\n",
        "    \"\"\"\n",
        "    dataset = langfuse.get_dataset(\"movie_reviews\")\n",
        "    chain = create_sentiment_chain(system_prompt)\n",
        "\n",
        "    print(f\"\\nRunning experiment: {experiment_name}\")\n",
        "    print(\"-\" * 50)\n",
        "\n",
        "    # Create progress bar\n",
        "    total_items = len(dataset.items)\n",
        "    with tqdm(total=total_items, desc=f\"Processing {experiment_name}\") as pbar:\n",
        "        for item in dataset.items:\n",
        "            try:\n",
        "                # Get the handler for tracing\n",
        "                handler = item.get_langchain_handler(run_name=experiment_name)\n",
        "\n",
        "                # Run the analysis\n",
        "                result = chain.invoke(\n",
        "                    {\"review\": item.input[\"review\"]},\n",
        "                    config={\"callbacks\": [handler]}\n",
        "                )\n",
        "\n",
        "                # Check accuracy\n",
        "                prediction = result.content.strip().lower()\n",
        "                is_correct = prediction == item.expected_output\n",
        "\n",
        "                # Score the result\n",
        "                handler.trace.score(\n",
        "                    name=\"accuracy\",\n",
        "                    value=1.0 if is_correct else 0.0\n",
        "                )\n",
        "\n",
        "                # Update progress bar\n",
        "                pbar.update(1)\n",
        "\n",
        "            except Exception as e:\n",
        "                print(f\"\\nError processing review: {str(e)}\")\n",
        "                pbar.update(1)\n",
        "                continue"
      ],
      "metadata": {
        "id": "IX-6XVFs6piT"
      },
      "execution_count": 10,
      "outputs": []
    },
    {
      "cell_type": "code",
      "source": [
        "# Define different prompts to test\n",
        "experiments = [\n",
        "    {\n",
        "        \"name\": \"basic_prompt\",\n",
        "        \"prompt\": \"\"\"\n",
        "        Analyze the sentiment of movie reviews.\n",
        "        Respond with exactly one word: 'positive', 'negative', or 'mixed'.\n",
        "        Base your analysis on the overall tone and content of the review.\n",
        "        \"\"\"\n",
        "    },\n",
        "    {\n",
        "        \"name\": \"detailed_prompt\",\n",
        "        \"prompt\": \"\"\"\n",
        "        You are a film critic analyzing movie reviews.\n",
        "        For each review, consider:\n",
        "        1. Overall emotional tone\n",
        "        2. Specific praise or criticism\n",
        "        3. Balance of positive and negative comments\n",
        "\n",
        "        Respond with ONLY ONE of these words:\n",
        "        - 'positive' for clearly positive reviews\n",
        "        - 'negative' for clearly negative reviews\n",
        "        - 'mixed' for reviews with both positive and negative elements\n",
        "\n",
        "        Do not include any explanation or additional text.\n",
        "        \"\"\"\n",
        "    }\n",
        "]"
      ],
      "metadata": {
        "id": "OwF_d5ry8bpa"
      },
      "execution_count": 11,
      "outputs": []
    },
    {
      "cell_type": "code",
      "source": [
        "# Usage\n",
        "print(\"\\nStarting experiments...\")\n",
        "for experiment in experiments:\n",
        "    accuracy = analyze_reviews(\n",
        "        experiment[\"name\"],\n",
        "        experiment[\"prompt\"]\n",
        "    )"
      ],
      "metadata": {
        "colab": {
          "base_uri": "https://localhost:8080/"
        },
        "id": "324HbU2J8gsp",
        "outputId": "d9936a5d-82cc-4495-d45d-ea4d0f9687ba"
      },
      "execution_count": 12,
      "outputs": [
        {
          "output_type": "stream",
          "name": "stdout",
          "text": [
            "\n",
            "Starting experiments...\n",
            "\n",
            "Running experiment: basic_prompt\n",
            "--------------------------------------------------\n"
          ]
        },
        {
          "output_type": "stream",
          "name": "stderr",
          "text": [
            "Processing basic_prompt: 100%|██████████| 30/30 [00:23<00:00,  1.25it/s]\n"
          ]
        },
        {
          "output_type": "stream",
          "name": "stdout",
          "text": [
            "\n",
            "Running experiment: detailed_prompt\n",
            "--------------------------------------------------\n"
          ]
        },
        {
          "output_type": "stream",
          "name": "stderr",
          "text": [
            "Processing detailed_prompt: 100%|██████████| 30/30 [01:24<00:00,  2.83s/it]\n"
          ]
        }
      ]
    },
    {
      "cell_type": "code",
      "source": [],
      "metadata": {
        "id": "Rs2l2IBE8qPW"
      },
      "execution_count": null,
      "outputs": []
    }
  ]
}